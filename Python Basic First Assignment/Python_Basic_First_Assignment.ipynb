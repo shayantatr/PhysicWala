{
  "cells": [
    {
      "cell_type": "markdown",
      "metadata": {
        "id": "7c7a4cec"
      },
      "source": [
        "## **Python Basic Question**\n",
        "\n",
        "* * *\n",
        "\n",
        "Ques-1 What is python, and why is it popular?\n",
        "\n",
        "Ans. Python is a high-level, interpreted programming language known for its readability and versatility.It is widely used in web development, data analysis, artificial intelligence, scientific computing, and more.\n",
        "\n",
        "* * *\n",
        "\n",
        "Ques-2 What is an interpreter in Python?\n",
        "\n",
        "Ans. A Python interpreter is a program that reads and executes Python code directly, line by line, without needing to compile it first. It allows you to run Python commands interactively or execute Python files immediately.\n",
        "\n",
        "* * *\n",
        "\n",
        "Ques-3 What is pre-defined keywords in python?\n",
        "\n",
        "Ans. Pre-defined keywords in Python are reserved words that have specific, predefined meanings and purposes within the language's syntax.\n",
        "\n",
        "* * *\n",
        "\n",
        "Ques-4 Can keywords be used as variable names?\n",
        "\n",
        "Ans. No, you cannot use keywords as variable names in Python. Keywords are reserved words with special meanings that are essential to Python's syntax and structure. Attempting to use them as variable names will result in a SyntaxError.\n",
        "\n",
        "* * *\n",
        "\n",
        "Ques-5 What is mutability in Python?\n",
        "\n",
        "Ans. objects/container whose state or value can be changed after they are created are called as mutable objects or container, list is a type of mutable object/supports item assignment\n",
        "\n",
        "* * *\n",
        "\n",
        "Ques-6 Why are lists mutable, but tuples are immutable?\n",
        "\n",
        "Ans. Tuple and list data structures are very similar, but one big difference between the data types is that lists are mutable, whereas tuples are immutable. The reason for the tuple's immutability is that once the elements are added to the tuple and the tuple has been created; it remains unchanged.\n",
        "\n",
        "* * *\n",
        "\n",
        "Ques-7 What is the difference between “==” and “is” operators in Python?\n",
        "\n",
        "Ans. In Python, the == and is operators serve different purposes when comparing objects:\n",
        "\n",
        "**== (Equality Operator)**\n",
        "\n",
        "Tests for value equality - whether two objects have the same value\n",
        "Calls the **eq**() method internally\n",
        "Returns True if the objects are equivalent in value, even if they're different objects in memory\n",
        "\n",
        "**is (Identity Operator)**\n",
        "\n",
        "Tests for identity - whether two variables refer to the exact same object in memory\n",
        "Compares object IDs (memory addresses)\n",
        "Returns True only if both variables point to the same object\n",
        "\n",
        "* * *\n",
        "\n",
        "Ques-8 What are logical operators in Python?\n",
        "\n",
        "Ans. Logical operators are used to combine conditional statements. In Python, there are three logical operators:\n",
        "\n",
        "*   **`and`**: Returns `True` if both statements are true.\n",
        "*   **`or`**: Returns `True` if at least one of the statements is true.\n",
        "*   **`not`**: Reverses the result; returns `False` if the result is true, and `True` if the result is false.\n",
        "\n",
        "* * *\n",
        "\n",
        "Ques-9 What is type casting in Python?\n",
        "\n",
        "Ans. Type casting (or type conversion) in Python is the process of converting a value of one data type into another data type. This is useful when you need to perform operations that require specific data types, or when you need to represent data in a different format. Python provides built-in functions for type casting, such as `int()`, `float()`, `str()`, `list()`, `tuple()`, etc.\n",
        "\n",
        "* * *\n",
        "\n",
        "Ques-10 What is the difference between implicit and explicit type casting?\n",
        "\n",
        "Ans. **Implicit Type Casting (Coercion):**\n",
        "\n",
        "*   Python automatically converts one data type to another without any user intervention.\n",
        "*   This happens when operations involve different data types where one can be safely promoted to match the other (e.g., adding an integer to a float).\n",
        "*   The conversion is done to avoid data loss or errors.\n",
        "\n",
        "**Explicit Type Casting (Type Conversion):**\n",
        "\n",
        "*   The user explicitly converts one data type to another using built-in functions like `int()`, `float()`, `str()`, etc.\n",
        "*   This is done when you need to force a conversion that Python wouldn't do automatically, or when you want to be precise about the desired data type.\n",
        "*   Explicit casting can lead to data loss if the conversion is not possible or results in a less precise representation.\n",
        "\n",
        "* * *\n",
        "\n",
        "Ques-11 What is the purpose of conditional statements in Python?\n",
        "\n",
        "Ans. Conditional statements are used to make decisions and control the flow of execution in a program. They allow you to execute different blocks of code based on whether a certain condition is true or false. The most common conditional statements in Python are `if`, `elif` (else if), and `else`.\n",
        "\n",
        "* * *\n",
        "\n",
        "Ques-12 How does the elif statement work?\n",
        "\n",
        "Ans. The `elif` statement in Python is short for \"else if\". It's used in conjunction with the `if` statement to check multiple conditions sequentially.\n",
        "\n",
        "*   If the condition in the initial `if` statement is false, Python checks the condition in the `elif` statement.\n",
        "*   If the `elif` condition is true, the code block associated with that `elif` is executed.\n",
        "*   You can have multiple `elif` statements after an `if` statement.\n",
        "*   If none of the `if` or `elif` conditions are true, and an optional `else` statement is present, the code block within the `else` statement is executed.\n",
        "\n",
        "The `elif` statement provides a way to handle multiple possible outcomes based on different conditions in a clear and structured manner.\n",
        "\n",
        "* * *\n",
        "\n",
        "Ques-13 What is the difference between for and while loops?\n",
        "\n",
        "Ans. **For Loop:**\n",
        "\n",
        "*   Used for iterating over a sequence (like a list, tuple, string, or range) or other iterable objects.\n",
        "*   The number of iterations is usually known or determined by the length of the sequence before the loop starts.\n",
        "*   It automatically handles the iteration variable and the stopping condition based on the iterable.\n",
        "\n",
        "**While Loop:**\n",
        "\n",
        "*   Used for repeatedly executing a block of code as long as a given condition is true.\n",
        "*   The number of iterations is not necessarily known in advance.\n",
        "*   You need to manage the loop variable and the stopping condition explicitly within the loop's body.\n",
        "\n",
        "In essence, a `for` loop is typically used when you know how many times you want to loop, while a `while` loop is used when you want to loop until a certain condition is met.\n",
        "\n",
        "* * *\n",
        "\n",
        "Ques-14 Describe a scenario where a while loop is more suitable than a for loop.\n",
        "\n",
        "Ans. A `while` loop is more suitable than a `for` loop when you don't know in advance how many times you need to iterate. It continues to execute as long as a given condition is true.\n",
        "\n",
        "**Scenario:** Reading data from a file until a specific marker is found.\n",
        "\n",
        "In this case, you don't know how many lines the file has or where the marker is located. A `while` loop can be used to read the file line by line until the marker is encountered, at which point the loop terminates. A `for` loop would not be suitable here because it typically iterates over a known sequence or range.\n",
        "\n",
        "* * *"
      ]
    },
    {
      "cell_type": "markdown",
      "metadata": {
        "id": "NWw9GjlGU_B-"
      },
      "source": [
        "## **Practical Questions**"
      ]
    },
    {
      "cell_type": "code",
      "execution_count": null,
      "metadata": {
        "colab": {
          "base_uri": "https://localhost:8080/"
        },
        "id": "TRg-ZN9jGuIX",
        "outputId": "5621a476-767d-43dd-ad41-309e9d313b1c"
      },
      "outputs": [
        {
          "name": "stdout",
          "output_type": "stream",
          "text": [
            "Hello, World!\n"
          ]
        }
      ],
      "source": [
        "#1 Write a Python program to print \"Hello, World!\"\n",
        "\n",
        "print(\"Hello, World!\")"
      ]
    },
    {
      "cell_type": "code",
      "execution_count": null,
      "metadata": {
        "colab": {
          "base_uri": "https://localhost:8080/"
        },
        "id": "aPfh_maKVmZA",
        "outputId": "3d4bd2d4-135f-4c02-b640-58b8a1394d54"
      },
      "outputs": [
        {
          "name": "stdout",
          "output_type": "stream",
          "text": [
            "Your Name :Md Shayan Shamim\n",
            "Your Age :35\n"
          ]
        }
      ],
      "source": [
        "#2 Write a Python program that displays your name and age.\n",
        "\n",
        "name = \"Md Shayan Shamim\"\n",
        "age = 35\n",
        "\n",
        "print(f\"Your Name :{name}\")\n",
        "print(f\"Your Age :{age}\")"
      ]
    },
    {
      "cell_type": "code",
      "execution_count": null,
      "metadata": {
        "colab": {
          "base_uri": "https://localhost:8080/"
        },
        "id": "nvi0X4JGWVGR",
        "outputId": "a0d46a81-697f-47e8-ed49-afb6e6a31483"
      },
      "outputs": [
        {
          "name": "stdout",
          "output_type": "stream",
          "text": [
            "['False', 'None', 'True', 'and', 'as', 'assert', 'async', 'await', 'break', 'class', 'continue', 'def', 'del', 'elif', 'else', 'except', 'finally', 'for', 'from', 'global', 'if', 'import', 'in', 'is', 'lambda', 'nonlocal', 'not', 'or', 'pass', 'raise', 'return', 'try', 'while', 'with', 'yield']\n"
          ]
        }
      ],
      "source": [
        "#3 Write code to print all the pre-defined keywords in Python using the keyword library.\n",
        "\n",
        "import keyword\n",
        "\n",
        "print(keyword.kwlist)"
      ]
    },
    {
      "cell_type": "code",
      "execution_count": null,
      "metadata": {
        "colab": {
          "base_uri": "https://localhost:8080/"
        },
        "id": "uA1lo4viXsZ4",
        "outputId": "b62fbae2-e16c-44cb-d1d2-a916729640e9"
      },
      "outputs": [
        {
          "name": "stdout",
          "output_type": "stream",
          "text": [
            "Enter a word to check if it is a Python keyword: in\n",
            "'in' is a Python keyword.\n"
          ]
        }
      ],
      "source": [
        "#4 Write a program that checks if a given word is a Python keyword.\n",
        "\n",
        "import keyword\n",
        "\n",
        "word_to_check = input(\"Enter a word to check if it is a Python keyword: \")\n",
        "\n",
        "if keyword.iskeyword(word_to_check):\n",
        "  print(f\"'{word_to_check}' is a Python keyword.\")\n",
        "else:\n",
        "  print(f\"'{word_to_check}' is not a Python keyword.\")"
      ]
    },
    {
      "cell_type": "code",
      "execution_count": null,
      "metadata": {
        "colab": {
          "base_uri": "https://localhost:8080/"
        },
        "id": "SnZFHQRSYDWr",
        "outputId": "8ffd7151-56ce-456c-f12a-0b3960c2cea0"
      },
      "outputs": [
        {
          "name": "stdout",
          "output_type": "stream",
          "text": [
            "Orignal List: ['shayan', 2, 3, 4, 5]\n",
            "List after changing an element: [1, 2, 3, 4, 5]\n",
            "\n",
            "Orignal Tuple: (1, 2, 3, 4, 5)\n",
            "Attempting to change an element in the tuple resulted in an error: 'tuple' object does not support item assignment\n"
          ]
        }
      ],
      "source": [
        "#5 Create a list and tuple in Python, and demonstrate how attempting to change an element works differently for each.\n",
        "\n",
        "#create list\n",
        "list = [\"shayan\",2,3,4,5]\n",
        "print(\"Orignal List:\",list)\n",
        "\n",
        "#Attempt to change an element in the list\n",
        "list[0] = 1\n",
        "print(\"List after changing an element:\",list)\n",
        "\n",
        "#create tuple\n",
        "\n",
        "tuple = (1,2,3,4,5)\n",
        "print(\"\\nOrignal Tuple:\",tuple)\n",
        "\n",
        "#Attempt to change an element in the tuple (this will cause an error)\\\n",
        "try:\n",
        "    tuple[0] = \"shayan\"\n",
        "except TypeError as e:\n",
        "    print(\"Attempting to change an element in the tuple resulted in an error:\", e)\n"
      ]
    },
    {
      "cell_type": "code",
      "execution_count": 9,
      "metadata": {
        "colab": {
          "base_uri": "https://localhost:8080/"
        },
        "id": "c00d8f0e",
        "outputId": "b886a349-e559-4e21-aae0-848dc04d63b2"
      },
      "outputs": [
        {
          "name": "stdout",
          "output_type": "stream",
          "text": [
            "Orignal list: [1, 2, 3, 4]\n",
            "List after changing an element: [1, 2, 3, 4, 5]\n",
            "Orginal Tuple: ('shayan', 'shamim', 'sumit')\n",
            "Tuple is Immutable: ('shayan', 'shamim', 'sumit')\n"
          ]
        }
      ],
      "source": [
        "# 6 Write a function to demonstrate the behavior of mutable and immutable arguments.\n",
        "\n",
        "# function create mutable and immutable\n",
        "def mutable_list():\n",
        "    list = [1,2,3,4] # List\n",
        "    print(\"Orignal list:\",list)\n",
        "    #changing an element in list\n",
        "    list.append(5)\n",
        "    print(\"List after changing an element:\",list)\n",
        "\n",
        "def immutable_tuple():\n",
        "\n",
        "    tuple = (\"shayan\",\"shamim\",\"sumit\")\n",
        "    print(\"Orginal Tuple:\",tuple)\n",
        "\n",
        "    #changing an element in tuple\n",
        "    try:\n",
        "        tuple[2] = \"amit\"\n",
        "        print(\"Tuple after changing an element :\",tuple)\n",
        "    except:\n",
        "        print(\"Tuple is Immutable:\", tuple)\n",
        "\n",
        "\n",
        "# Display behavior of mutable and immutable\n",
        "mutable_list()\n",
        "immutable_tuple()"
      ]
    },
    {
      "cell_type": "code",
      "execution_count": null,
      "metadata": {
        "colab": {
          "base_uri": "https://localhost:8080/"
        },
        "id": "LfFNuPvJkNK5",
        "outputId": "55a0f4b3-6ec0-484c-f78e-193880b6fd4e"
      },
      "outputs": [
        {
          "name": "stdout",
          "output_type": "stream",
          "text": [
            "Enter first number: 40\n",
            "Enter second number: 30\n",
            "\n",
            "Results:\n",
            "Addition: 70\n",
            "substraction: 10\n",
            "multiplication: 1200\n",
            "division: 1.3333333333333333\n",
            "floor_division: 1\n",
            "modulo: 10\n"
          ]
        }
      ],
      "source": [
        "#7 Write a program that performs basic arithmetic operations on two user-input numbers.\n",
        "\n",
        "# create two users input number\n",
        "number_1 = int(input(\"Enter first number: \"))\n",
        "number_2 = int(input(\"Enter second number: \"))\n",
        "\n",
        "# Perform basic arithmetic operations\n",
        "Addition = number_1 + number_2\n",
        "substraction = number_1 - number_2\n",
        "multiplication = number_1 * number_2\n",
        "division = number_1 / number_2\n",
        "floor_division = number_1 // number_2\n",
        "modulo = number_1 % number_2\n",
        "\n",
        "\n",
        "# Display Results\n",
        "print(f\"\\nResults:\")\n",
        "print(f\"Addition: {Addition}\")\n",
        "print(f\"substraction: {substraction}\")\n",
        "print(f\"multiplication: {multiplication}\")\n",
        "print(f\"division: {division}\")\n",
        "print(f\"floor_division: {floor_division}\")\n",
        "print(f\"modulo: {modulo}\")\n"
      ]
    },
    {
      "cell_type": "code",
      "execution_count": null,
      "metadata": {
        "colab": {
          "base_uri": "https://localhost:8080/"
        },
        "id": "4d0a10f9",
        "outputId": "cecefddb-c7cc-4e68-f0b5-dd16ab9dc448"
      },
      "outputs": [
        {
          "name": "stdout",
          "output_type": "stream",
          "text": [
            "\n",
            "Result of logical operators\n",
            "And operator: True\n",
            "Or operator: True\n",
            "Not operator: False\n"
          ]
        }
      ],
      "source": [
        "#8 Write a program to demonstrate the use of logical operators.\n",
        "\n",
        "a = 5\n",
        "b = 10\n",
        "\n",
        "print(f\"\\nResult of logical operators\")\n",
        "\n",
        "# Logical AND\n",
        "print(f\"And operator: {a > 0 and b > 0}\")\n",
        "\n",
        "# Logical OR\n",
        "print(f\"Or operator: {a > 0 or b > 0}\")\n",
        "\n",
        "# Logical NOT\n",
        "print(f\"Not operator: {not(a > 0)}\")"
      ]
    },
    {
      "cell_type": "code",
      "execution_count": null,
      "metadata": {
        "colab": {
          "base_uri": "https://localhost:8080/"
        },
        "id": "gqoM_tnnoWa_",
        "outputId": "8d7f9467-3ed5-4c13-ea40-ea03070b1d51"
      },
      "outputs": [
        {
          "name": "stdout",
          "output_type": "stream",
          "text": [
            "Enter a value: 2\n",
            "Results of convert input from string:\n",
            "Integer: 2\n",
            "Float: 2.0\n",
            "Boolean: True\n"
          ]
        }
      ],
      "source": [
        "# 9 Write a Python program to convert user input from string to integer, float, and boolean types.\n",
        "\n",
        "#create a user input from string\n",
        "\n",
        "user_input = input(\"Enter a value: \")\n",
        "\n",
        "print(\"Results of convert input from string:\")\n",
        "\n",
        "# Convert to integer\n",
        "print(f\"Integer: {int(user_input)}\")\n",
        "\n",
        "# Convert to float\n",
        "print(f\"Float: {float(user_input)}\")\n",
        "\n",
        "# Convert to boolean\n",
        "print(f\"Boolean: {bool(user_input)}\")"
      ]
    },
    {
      "cell_type": "code",
      "execution_count": null,
      "metadata": {
        "colab": {
          "base_uri": "https://localhost:8080/"
        },
        "id": "OtjYlRDKsNiZ",
        "outputId": "bebe6a9b-35e5-4707-927a-a60ec3d68cb9"
      },
      "outputs": [
        {
          "name": "stdout",
          "output_type": "stream",
          "text": [
            "Before casting: ['1', '2', '3', '4', '5']\n",
            "After casting to integer: [1, 2, 3, 4, 5]\n"
          ]
        }
      ],
      "source": [
        "#10. Write code to demonstrate type casting with list elements.\n",
        "\n",
        "#create a list\n",
        "\n",
        "list = ['1','2','3','4','5']\n",
        "print(f\"Before casting: {list}\")\n",
        "\n",
        "# Demonstrate type casting with list elements string to integer.\n",
        "integer_list = [int(element) for element in list]\n",
        "print(f\"After casting to integer: {integer_list}\")\n",
        "\n"
      ]
    },
    {
      "cell_type": "code",
      "execution_count": null,
      "metadata": {
        "colab": {
          "base_uri": "https://localhost:8080/"
        },
        "id": "cBG-oMxgswhF",
        "outputId": "02988749-8a0d-4d0d-cc23-310eff84a286"
      },
      "outputs": [
        {
          "name": "stdout",
          "output_type": "stream",
          "text": [
            "Enter a number: -1\n",
            "The number is negative.\n"
          ]
        }
      ],
      "source": [
        "#11 Write a program that checks if a number is positive, negative, or zero.\n",
        "\n",
        "# Take input from user\n",
        "number = float(input(\"Enter a number: \"))\n",
        "\n",
        "# Check if a number is positive, negative, or zero.\n",
        "\n",
        "if number > 0:\n",
        "  print(\"The number is positive.\")\n",
        "elif number < 0:\n",
        "  print(\"The number is negative.\")\n",
        "else:\n",
        "  print(\"The number is zero.\")\n"
      ]
    },
    {
      "cell_type": "code",
      "execution_count": null,
      "metadata": {
        "colab": {
          "base_uri": "https://localhost:8080/"
        },
        "id": "10YBcUcAs3Ac",
        "outputId": "c1810fe3-2ec2-45f0-d223-7d5dad16fecc"
      },
      "outputs": [
        {
          "name": "stdout",
          "output_type": "stream",
          "text": [
            "1\n",
            "2\n",
            "3\n",
            "4\n",
            "5\n",
            "6\n",
            "7\n",
            "8\n",
            "9\n",
            "10\n"
          ]
        }
      ],
      "source": [
        "#12 Write a for loop to print numbers from 1 to 10.\n",
        "\n",
        "# using for loop in range number from 1 to 10.\n",
        "for i in range(1,11):\n",
        "  print(i)"
      ]
    },
    {
      "cell_type": "code",
      "execution_count": null,
      "metadata": {
        "colab": {
          "base_uri": "https://localhost:8080/"
        },
        "id": "N-yteetLtCZ0",
        "outputId": "c419174e-d2db-41fc-d244-7cf8f97f637b"
      },
      "outputs": [
        {
          "name": "stdout",
          "output_type": "stream",
          "text": [
            "The sum of even numbers from 1 to 50 is: 650\n"
          ]
        }
      ],
      "source": [
        "#13 Write a Python program to find the sum of all even numbers between 1 and 50.\n",
        "\n",
        "sum_even = 0\n",
        "\n",
        "# Loop through numbers from 1 to 50\n",
        "for number in range(1, 51):\n",
        "    if number % 2 == 0:  # Check if the number is even\n",
        "        sum_even += number\n",
        "\n",
        "# Display the result\n",
        "print(f\"The sum of even numbers from 1 to 50 is: {sum_even}\")\n"
      ]
    },
    {
      "cell_type": "code",
      "execution_count": null,
      "metadata": {
        "colab": {
          "base_uri": "https://localhost:8080/"
        },
        "id": "1ZN95PfItIr7",
        "outputId": "a217315e-5f7d-4291-98e4-e2ee1d4d0144"
      },
      "outputs": [
        {
          "name": "stdout",
          "output_type": "stream",
          "text": [
            "Enter a string : shayan\n",
            "Reverse String : nayahs"
          ]
        }
      ],
      "source": [
        "#14 Write a program to reverse a string using a while loop.\n",
        "\n",
        "# create a input for string\n",
        "string = input(\"Enter a string : \")\n",
        "print(\"Reverse String : \", end='')\n",
        "\n",
        "# Initialize variables\n",
        "i = len(string) - 1\n",
        "\n",
        "# Use a while loop to reverse the string\n",
        "while i >= 0:\n",
        "    print(string[i],end='')\n",
        "    i -= 1"
      ]
    },
    {
      "cell_type": "code",
      "execution_count": null,
      "metadata": {
        "colab": {
          "base_uri": "https://localhost:8080/"
        },
        "id": "0pLoYA1ytIVZ",
        "outputId": "32f29147-8dfb-4ae0-bb9c-f65f910645ad"
      },
      "outputs": [
        {
          "name": "stdout",
          "output_type": "stream",
          "text": [
            "Enter a number: 5\n",
            "The factorial of 5 is 120\n"
          ]
        }
      ],
      "source": [
        "#15. Write a Python program to calculate the factorial of a number provided by the user using a while loop.\n",
        "\n",
        "# Program to calculate factorial using while loop\n",
        "\n",
        "# Take input from user\n",
        "\n",
        "number = int(input(\"Enter a number: \"))\n",
        "\n",
        "# Initialize variables\n",
        "factorial = 1\n",
        "i = 1\n",
        "\n",
        "# Use a while loop to calculate the factorial\n",
        "while i <= number:\n",
        "    factorial *= i\n",
        "    i += 1\n",
        "\n",
        "# Display the result\n",
        "print(f\"The factorial of {number} is {factorial}\")"
      ]
    }
  ],
  "metadata": {
    "colab": {
      "provenance": []
    },
    "kernelspec": {
      "display_name": "Python 3",
      "name": "python3"
    },
    "language_info": {
      "codemirror_mode": {
        "name": "ipython",
        "version": 3
      },
      "file_extension": ".py",
      "mimetype": "text/x-python",
      "name": "python",
      "nbconvert_exporter": "python",
      "pygments_lexer": "ipython3",
      "version": "3.13.5"
    }
  },
  "nbformat": 4,
  "nbformat_minor": 0
}
