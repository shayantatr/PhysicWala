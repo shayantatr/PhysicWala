{
  "nbformat": 4,
  "nbformat_minor": 0,
  "metadata": {
    "colab": {
      "provenance": []
    },
    "kernelspec": {
      "name": "python3",
      "display_name": "Python 3"
    },
    "language_info": {
      "name": "python"
    }
  },
  "cells": [
    {
      "cell_type": "markdown",
      "source": [
        "## **Data Types and Structures Questions**\n",
        "\n",
        "* * *\n",
        "\n",
        "Ques-1 What are data structure, and why are they important?\n",
        "\n",
        "Ans. A data structure is a way of organizing, managing, and storing data in a computer so that it can be accessed and modified efficiently. They are important because they allow for efficient storage and retrieval of data, which is crucial for developing efficient algorithms and software. Choosing the right data structure for a particular problem can significantly impact the performance of the solution.\n",
        "\n",
        "* * *\n",
        "\n",
        "Ques-2 Explain the difference between mutable and immutable data types with examples?\n",
        "\n",
        "Ans. The key difference lies in whether you can change the data after it's created:\n",
        "\n",
        "- **Mutable Data Types** can be modified after creation. When you change them, you're altering the same object in memory.\n",
        "\n",
        "  - **Dictionaries - mutable**\n",
        "my_dict = {'a': 1, 'b': 2}\n",
        "my_dict['c'] = 3    # Modifies the existing dictionary\n",
        "print(my_dict)      # {'a': 1, 'b': 2, 'c': 3}\n",
        "\n",
        "\n",
        "- **Immutable Data Types** cannot be changed after creation. Any \"modification\" actually creates a new object.\n",
        "\n",
        "  - **Strings - immutable**\n",
        "my_string = \"hello\"\n",
        "new_string = my_string.upper() # Creates a new string object\n",
        "print(my_string)    # hello\n",
        "print(new_string)   # HELLO\n",
        "\n",
        "* * *\n",
        "\n",
        "Ques-3 What are the main differences between lists and tuples in Python?\n",
        "\n",
        "Ans. The main differences between lists and tuples in Python are:\n",
        "\n",
        "- **Mutability:** Lists are mutable, meaning their elements can be changed after creation. Tuples are immutable, meaning their elements cannot be changed after creation.\n",
        "\n",
        "- **Syntax:** Lists are defined using square brackets [], while tuples are defined using parentheses ().\n",
        "\n",
        "- **Performance:** Tuples are generally faster than lists because of their immutability.\n",
        "\n",
        "- **Use Cases:** Lists are typically used for collections of items that might change, while tuples are used for collections of related items that should not change, such as coordinates or database records.\n",
        "\n",
        "* * *\n",
        "\n",
        "Ques-4 Describe how dictionaries store data?\n",
        "\n",
        "Ans. Dictionaries store data as key-value pairs. Each key is unique within the dictionary, and it maps to a corresponding value. Dictionaries are unordered collections, meaning the order in which items are stored is not guaranteed. They are implemented using hash tables, which allows for efficient retrieval of values based on their keys.\n",
        "\n",
        "* * *\n",
        "\n",
        "Ques-5 Why might you use a set instead of a list in Python?\n",
        "\n",
        "Ans. You might use a set instead of a list in Python for the following reasons:\n",
        "\n",
        "- **Uniqueness:** Sets automatically store only unique elements, eliminating duplicates. If you need a collection of unique items, a set is more efficient than manually checking for duplicates in a list.\n",
        "\n",
        "- **Membership Testing:** Checking if an element is in a set is generally faster than checking if an element is in a list, especially for large collections. This is because sets are implemented using hash tables, allowing for average O(1) time complexity for membership testing.\n",
        "\n",
        "- **Mathematical Set Operations:** Sets support mathematical set operations like union, intersection, difference, and symmetric difference, which are often more concise and efficient than achieving the same results with lists.\n",
        "\n",
        "- **Order is not important:** If the order of elements doesn't matter, a set can be a good choice. Lists maintain insertion order, which adds overhead.\n",
        "\n",
        "* * *\n",
        "\n",
        "Ques-6 What is a string in Python, and how is it different from a list?\n",
        "\n",
        "Ans. A string in Python is a sequence of characters, used to represent text. Strings are **immutable**, meaning once created, their characters cannot be changed.\n",
        "\n",
        "Here's how strings differ from lists:\n",
        "\n",
        "- **Mutability:** Strings are immutable, while lists are mutable. You can change, add, or remove elements from a list, but you cannot change individual characters within an existing string. Any operation that appears to modify a string actually creates a new string object.\n",
        "\n",
        "- **Data Type:** Strings are designed specifically for sequences of characters (text). Lists are general-purpose collections that can hold elements of any data type (numbers, strings, other lists, etc.).\n",
        "\n",
        "- **Syntax:** Strings are defined using quotes (single '', double \"\", or triple '''), while lists are defined using square brackets `[]`.\n",
        "\n",
        "- **Methods:** Strings and lists have different built-in methods that are appropriate for their respective data types. String methods are for text manipulation (like `upper()`, `lower()`, `split()`, `replace()`), while list methods are for sequence manipulation (like `append()`, `insert()`, `remove()`, `sort()`).\n",
        "\n",
        "* * *\n",
        "\n",
        "Ques-7 How do tuples ensure data integrity in Python?\n",
        "\n",
        "Ans. Tuples ensure data integrity in Python primarily through their **immutability**. Because elements within a tuple cannot be changed after the tuple is created, you can be confident that the data you put into a tuple will remain the same throughout the program's execution. This is particularly useful for:\n",
        "\n",
        "- **Representing fixed collections:** When you have a collection of related data that should not be modified (like coordinates, database records, or configuration settings), using a tuple prevents accidental or unintended changes.\n",
        "\n",
        "- **Using as dictionary keys:** Because tuples are immutable, they can be used as keys in dictionaries. Mutable types like lists cannot be used as dictionary keys because their hash value could change.\n",
        "\n",
        "- **Passing data to functions:** Passing a tuple to a function ensures that the original data cannot be altered by the function.\n",
        "\n",
        "In essence, the immutability of tuples provides a guarantee that the data they hold is protected from modification, thereby contributing to data integrity.\n",
        "\n",
        "* * *\n",
        "\n",
        "Ques-8 What is a hash table, and how does it relate to dictionaries in Python?\n",
        "\n",
        "Ans. A hash table (also known as a hash map or dictionary) is a data structure that implements an associative array abstract data type, a structure that can map keys to values. A hash table uses a hash function to compute an index into an array of buckets or slots, from which the desired value can be found.\n",
        "\n",
        "In Python, dictionaries are implemented using hash tables. When you add a key-value pair to a dictionary, Python uses a hash function to calculate a hash value for the key. This hash value is then used to determine where in the underlying array the key-value pair should be stored. When you look up a value by its key, Python again calculates the hash value of the key and uses it to quickly locate the corresponding value in the array. This is why dictionary lookups are typically very fast, on average O(1) time complexity.\n",
        "\n",
        "* * *\n",
        "\n",
        "Ques-9 Can lists contain different data types in Python?\n",
        "\n",
        "Ans. Yes, lists in Python can contain elements of different data types. This is one of the key features of Python lists, making them very flexible. You can have a list that includes integers, strings, floats, other lists, tuples, dictionaries, or any other Python object within the same list.\n",
        "\n",
        "For example:\n",
        "\n",
        "my_mixed_list = [1, \"hello\", 3.14, [5, 6], (7, 8), {'a': 1}]\n",
        "print(my_mixed_list)\n",
        "\n",
        "This list contains an integer, a string, a float, another list, a tuple, and a dictionary.\n",
        "\n",
        "* * *\n",
        "\n",
        "Ques-10 Explain why strings are immutable in Python?\n",
        "\n",
        "Ans. Strings are immutable in Python for several reasons, primarily related to efficiency and consistency:\n",
        "\n",
        "- **Performance Optimization:** Immutability allows for certain performance optimizations. Since a string object's content never changes, Python can cache string literals and reuse them. This saves memory and speeds up string operations.\n",
        "\n",
        "- **Thread Safety:** In multi-threaded environments, immutable objects are inherently thread-safe because multiple threads can access the same string object without the risk of one thread modifying it while another is reading it.\n",
        "\n",
        "- **Hashability:** Immutable objects can be used as keys in dictionaries and elements in sets because their hash value is constant. If strings were mutable, their hash value could change after creation, which would break the integrity of hash-based data structures.\n",
        "\n",
        "- **Predictability and Reliability:** Immutability ensures that once a string is created, its value will not change unexpectedly. This makes code more predictable and easier to reason about, reducing the likelihood of bugs related to unintended side effects.\n",
        "\n",
        "While it might seem inconvenient that you can't directly modify a string in place, operations like concatenation or slicing always result in a new string object, which aligns with the concept of immutability and offers these benefits.\n",
        "\n",
        "* * *\n",
        "\n",
        "Ques-11 What advantages do dictionaries offer over lists for certain tasks?\n",
        "\n",
        "Ans. Dictionaries offer several advantages over lists for certain tasks, primarily due to their key-value structure and underlying implementation using hash tables:\n",
        "\n",
        "- **Efficient Lookups:** The most significant advantage is the speed of accessing elements. In a dictionary, you access values directly by their unique key. This lookup time is, on average, constant (O(1)), regardless of the size of the dictionary. In contrast, searching for an element in a list typically requires iterating through the list, which takes linear time (O(n)) in the worst case. This makes dictionaries ideal for scenarios where you need to quickly retrieve data based on a specific identifier.\n",
        "- **Associative Relationships:** Dictionaries are designed to represent relationships between pieces of data (keys and their corresponding values). This is particularly useful when you have data that can be logically mapped using a key, such as looking up a person's phone number using their name, or retrieving configuration settings using their names. Lists store data in a sequential order, which doesn't inherently represent such relationships.\n",
        "- **Flexibility in Indexing:** Lists are indexed by integers representing the position of the element. Dictionaries can use almost any immutable data type as keys (strings, numbers, tuples). This allows for more meaningful and descriptive ways to access data compared to simple numerical indices.\n",
        "- **Handling Sparse Data:** Dictionaries are efficient for storing sparse data (data where many possible values are absent or zero). You only need to store the key-value pairs for the existing data, unlike a list where you might need to represent missing values explicitly, potentially using more memory.\n",
        "\n",
        "In summary, dictionaries are superior to lists when you need fast lookups based on a key, want to represent associative relationships between data, require flexible indexing beyond integers, or are dealing with sparse data. Lists are better suited for ordered collections where the position of elements is important and you primarily access elements by their index or iterate through the collection.\n",
        "\n",
        "* * *\n",
        "\n",
        "Ques-12 Describe a scenario where using a tuple would be preferable over a list?\n",
        "\n",
        "Ans. A common scenario where using a tuple is preferable over a list is when you need to represent a collection of items that are related and whose values should not change throughout the program's execution. Think of it as a fixed record or a set of unchangeable attributes for an object.\n",
        "\n",
        "Here are a few specific examples:\n",
        "\n",
        "- **Representing Coordinates:** A point in a 2D or 3D space can be represented by a fixed pair or triplet of numbers (e.g., `(x, y)` or `(x, y, z)`). These coordinates typically don't change. Using a tuple makes it clear that these values are meant to be constant and prevents accidental modification.\n",
        "- **Storing Database Records (simplified):** While full database rows might be represented by more complex structures, a simplified view of a record could be a tuple of values that shouldn't be individually changed once retrieved (e.g., `(user_id, username, registration_date)`).\n",
        "\n",
        "- **Function Arguments that are fixed:** If a function needs to receive a collection of values that should not be modified within the function, passing a tuple ensures this immutability.\n",
        "\n",
        "- **Using as Dictionary Keys:** As mentioned in a previous answer, tuples are immutable and therefore can be used as keys in dictionaries, unlike lists. If you need a composite key (a key made up of multiple values), a tuple is the way to go. For example, a dictionary key could be `(first_name, last_name)` to store information about individuals.\n",
        "\n",
        "In these scenarios, the immutability of tuples provides a guarantee of data integrity and makes the code's intent clearer – that the collection is meant to be static. While you *could* use a list in these cases, a tuple is the more appropriate and often more efficient choice when the data should not change.\n",
        "\n",
        "* * *\n",
        "\n",
        "Ques-13 How do sets handle duplicate values in Python?\n",
        "\n",
        "Ans. Sets in Python inherently handle duplicate values by **automatically storing only unique elements**. When you create a set from a list or another iterable that contains duplicates, the set will discard the duplicate values, and only one instance of each unique element will be stored.\n",
        "\n",
        "For example:\n",
        "\n",
        "my_list = [1, 2, 2, 3, 4, 4, 5]\n",
        "my_set = set(my_list)\n",
        "print(my_set)  # Output: {1, 2, 3, 4, 5}\n",
        "\n",
        "If you try to add an element that is already present in a set using the `add()` method, the set will remain unchanged because sets cannot contain duplicates.\n",
        "\n",
        "This behavior makes sets particularly useful when you need to quickly find the unique elements in a collection or perform set operations that rely on uniqueness.\n",
        "\n",
        "* * *\n",
        "\n",
        "Ques-14 How does the “in” keyword work differently for lists and dictionaries?\n",
        "\n",
        "Ans. The `in` keyword is used for membership testing in both lists and dictionaries, but it checks for different things:\n",
        "\n",
        "- **Lists:** For lists, the `in` keyword checks if a specific **element value** exists anywhere within the list. The time complexity for this check is typically linear (O(n)) in the worst case, as Python may need to iterate through the list to find the element.\n",
        "\n",
        "  - my_dict = {'apple': 1, 'banana': 2, 'cherry': 3}\n",
        "  print('banana' in my_dict)  # Output: True\n",
        "  print('grape' in my_dict)   # Output: False\n",
        "  print(1 in my_dict)       # Output: False (checks for key 1, not value 1)\n",
        "\n",
        "* * *\n",
        "\n",
        "Ques-15 Can you modify the elements of a tuple? Explain why or why not?\n",
        "\n",
        "Ans. No, you cannot modify the elements of a tuple after it has been created. Tuples are **immutable** data types in Python.\n",
        "\n",
        "This immutability means that once a tuple object is created in memory, its contents (the elements it holds) cannot be changed. Any operation that appears to modify a tuple, such as concatenation or slicing, actually creates a **new** tuple object with the desired changes, leaving the original tuple untouched.\n",
        "\n",
        "The reasons for tuple immutability are similar to those for strings:\n",
        "\n",
        "- **Data Integrity:** Immutability ensures that the data within a tuple remains constant, preventing accidental or unintended modifications.\n",
        "\n",
        "- **Hashability:** Because tuples are immutable, their hash value is constant. This allows them to be used as keys in dictionaries and elements in sets, which require hashable objects.\n",
        "\n",
        "- **Performance and Optimization:** Immutability can allow for certain internal optimizations in Python.\n",
        "\n",
        "In essence, the immutability of tuples is a design choice that provides benefits in terms of data integrity, usability in hash-based collections, and potential performance optimizations, even though it means you cannot change a tuple's elements in place.\n",
        "\n",
        "* * *\n",
        "\n",
        "Ques-16 What is a nested dictionary, and give an example of its use case?\n",
        "\n",
        "Ans. A nested dictionary is a dictionary where the values are themselves dictionaries. This allows you to create hierarchical data structures, representing relationships between different levels of information.\n",
        "\n",
        "**Example Use Case: Representing Complex Data**\n",
        "\n",
        "Nested dictionaries are commonly used to represent complex data structures, such as:\n",
        "\n",
        "- **JSON data:** JSON (JavaScript Object Notation) is a lightweight data-interchange format that is commonly used for transmitting data on the web. JSON data is often structured as nested dictionaries and lists.\n",
        "\n",
        "- **Configuration settings:** You can use nested dictionaries to organize configuration settings for an application, grouping related settings together.\n",
        "\n",
        "- **Database records:** While not a direct replacement for a database, a nested dictionary can represent a single record with multiple related fields, where some fields might contain structured data.\n",
        "\n",
        "- **Representing hierarchical data:** Data with a tree-like structure, such as a file system or an organizational chart, can be represented using nested dictionaries.\n",
        "\n",
        "Here's a simple example representing information about people:\n",
        "\n",
        "* * *\n",
        "\n",
        "Ques-17 Describe the time complexity of accessing elements in a dictionary?\n",
        "\n",
        "Ans. Accessing elements in a dictionary by their key has an **average time complexity of O(1)** (constant time). This means that on average, the time it takes to retrieve a value from a dictionary does not significantly increase with the size of the dictionary.\n",
        "\n",
        "This efficiency is due to the underlying implementation of dictionaries using hash tables. When you access an element using its key, Python calculates the hash value of the key and uses it to directly locate the corresponding value in memory. This is a very fast operation.\n",
        "\n",
        "In the worst-case scenario (which is rare with good hash functions and sufficient dictionary capacity), there could be hash collisions where multiple keys map to the same location. In such cases, the time complexity could degrade to O(n) (linear time), where n is the number of elements in the dictionary, as Python might need to traverse a linked list of items at that location. However, for typical use cases, the average O(1) performance makes dictionaries extremely efficient for lookups.\n",
        "\n",
        "* * *\n",
        "\n",
        "Ques-18 In what situations are lists preferred over dictionaries?\n",
        "\n",
        "Ans. Lists are preferred over dictionaries in situations where:\n",
        "\n",
        "- **Order matters:** Lists maintain the order of elements as they are inserted. If the sequence or position of elements is important, a list is the appropriate choice. Dictionaries, while preserving insertion order in recent Python versions, are fundamentally designed for key-based access, not positional access.\n",
        "\n",
        "- **You need to access elements by index:** If you primarily need to access elements based on their numerical position (e.g., the first element, the third element), lists provide efficient O(1) access using indexing. Dictionary lookups are based on keys, not indices.\n",
        "\n",
        "- **You have a collection of items without unique identifiers:** If the data you're storing doesn't have natural, unique keys that you would use for retrieval, a list is a simpler and more direct way to store the collection.\n",
        "\n",
        "- **You need to perform operations that rely on order:** Operations like slicing (getting a portion of the sequence), appending to the end, or inserting at a specific position are natural for lists and are not directly applicable to dictionaries.\n",
        "\n",
        "- **You need to store duplicate items:** Lists can easily store multiple occurrences of the same item. Dictionaries, by definition, have unique keys, so you cannot store duplicate keys. While you can have duplicate values in a dictionary, you can only access them via their unique keys.\n",
        "\n",
        "In essence, lists are best suited for ordered sequences of items, especially when access by position or maintaining insertion order is important, or when the data doesn't have clear unique identifiers. Dictionaries are better for collections where you need fast lookups based on a key and want to represent key-value relationships.\n",
        "\n",
        "* * *\n",
        "\n",
        "Ques-19 Why are dictionaries considered unordered, and how does that affect data retrieval?\n",
        "\n",
        "Ans. Historically, dictionaries in Python were considered unordered collections, meaning the order in which items were inserted or stored was not guaranteed and could vary between Python versions or even different runs of the same program. This was a consequence of their implementation using hash tables, which prioritize fast lookups over maintaining insertion order.\n",
        "\n",
        "However, as of Python 3.7, the insertion order of items in dictionaries is guaranteed to be preserved. This means that when you iterate over a dictionary, you will get the key-value pairs in the order they were added.\n",
        "\n",
        "Despite this change in implementation detail, dictionaries are still primarily designed for efficient retrieval of values based on their keys, not based on their position or order. While you can now rely on insertion order when iterating, the fundamental way you access data in a dictionary is by its key, not by a numerical index like in a list.\n",
        "\n",
        "Therefore, when thinking about data retrieval in dictionaries, the key concept is still the direct access via the key (average O(1) time complexity), rather than relying on a sequential order. The fact that insertion order is now preserved is a useful feature for iteration but doesn't change the primary method of accessing individual elements.\n",
        "\n",
        "* * *\n",
        "\n",
        "Ques-20 Explain the difference between a list and a dictionary in terms of data retrieval?\n",
        "\n",
        "Ans. The primary difference in data retrieval between lists and dictionaries lies in how you access individual elements:\n",
        "\n",
        "- **Lists:** Data in a list is accessed by its **index**, which is an integer representing the element's position in the sequence (starting from 0). To retrieve an element, you provide its numerical index within square brackets (e.g., `my_list[0]`). This is efficient when you know the position of the element you want to retrieve or when iterating through the list.\n",
        "\n",
        "- **Dictionaries:** Data in a dictionary is accessed by its **key**. Each key is a unique identifier that maps to a specific value. To retrieve a value, you provide its corresponding key within square brackets (e.g., `my_dict['key_name']`). Dictionary lookups are generally very fast, on average O(1) time complexity, regardless of the dictionary's size, because they are implemented using hash tables that allow for direct access based on the key's hash value. This is highly efficient when you need to retrieve data based on a specific identifier rather than its position.\n",
        "\n",
        "In essence, lists are ordered collections where retrieval is based on numerical position, while dictionaries are unordered collections where retrieval is based on unique keys.\n",
        "\n",
        "* * *"
      ],
      "metadata": {
        "id": "k-QA7F9DTTvU"
      }
    },
    {
      "cell_type": "code",
      "source": [
        "# 1. Write a code to create a string with your name and print it.\n",
        "\n",
        "name = \"Md Shayan Shamim\"\n",
        "print(name)"
      ],
      "metadata": {
        "colab": {
          "base_uri": "https://localhost:8080/"
        },
        "id": "ZSaZhkA0QBCP",
        "outputId": "d5ca96c0-7d0a-4891-f747-2ab27b422a23"
      },
      "execution_count": 3,
      "outputs": [
        {
          "output_type": "stream",
          "name": "stdout",
          "text": [
            "Md Shayan Shamim\n"
          ]
        }
      ]
    },
    {
      "cell_type": "code",
      "source": [
        "# 2. Write a code to find the length of the string \"Hello World\".\n",
        "\n",
        "string = \"Hello World\"\n",
        "print(len(string))"
      ],
      "metadata": {
        "colab": {
          "base_uri": "https://localhost:8080/"
        },
        "id": "YXUOIGD_QOHL",
        "outputId": "cfb740d3-65ca-4e7a-fd12-114c50a94382"
      },
      "execution_count": 4,
      "outputs": [
        {
          "output_type": "stream",
          "name": "stdout",
          "text": [
            "11\n"
          ]
        }
      ]
    },
    {
      "cell_type": "code",
      "source": [
        "# 3. Write a code to slice the first 3 characters from the string \"Python Programming\".\n",
        "\n",
        "string = \"Python Programming\"\n",
        "print(string[:3])"
      ],
      "metadata": {
        "colab": {
          "base_uri": "https://localhost:8080/"
        },
        "id": "IC5ao0UOQQdz",
        "outputId": "e896a233-6d43-4b49-de68-19097ff5c562"
      },
      "execution_count": 5,
      "outputs": [
        {
          "output_type": "stream",
          "name": "stdout",
          "text": [
            "Pyt\n"
          ]
        }
      ]
    },
    {
      "cell_type": "code",
      "source": [
        "# 4. Write a code to convert the string \"hello\" to uppercase.\n",
        "\n",
        "string = \"hello\"\n",
        "print(string.upper())"
      ],
      "metadata": {
        "colab": {
          "base_uri": "https://localhost:8080/"
        },
        "id": "ccUtKxdYQQgw",
        "outputId": "818bc1c0-6f65-4035-a912-5d5703075e61"
      },
      "execution_count": 6,
      "outputs": [
        {
          "output_type": "stream",
          "name": "stdout",
          "text": [
            "HELLO\n"
          ]
        }
      ]
    },
    {
      "cell_type": "code",
      "source": [
        "# 5. Write a code to replace the word \"apple\" with \"orange\" in the string \"I like apple\".\n",
        "\n",
        "string = \"I like apple\"\n",
        "print(string.replace(\"apple\", \"orange\"))"
      ],
      "metadata": {
        "id": "eYeRMXoxQQj_"
      },
      "execution_count": 6,
      "outputs": []
    },
    {
      "cell_type": "code",
      "source": [
        "# 6. Write a code to create a list with numbers 1 to 5 and print it.\n",
        "\n",
        "list = [1, 2, 3, 4, 5]\n",
        "print(list)"
      ],
      "metadata": {
        "id": "bfAZjljUQQqc"
      },
      "execution_count": 6,
      "outputs": []
    },
    {
      "cell_type": "code",
      "source": [
        "# 7. Write a code to append the number 10 to the list [1, 2, 3, 4].\n",
        "\n",
        "list = [1, 2, 3, 4]\n",
        "print(f\"Orignal list:{list}\")\n",
        "list.append(10)\n",
        "print(f\"After appending (10): {list}\")"
      ],
      "metadata": {
        "id": "pwyHSS0IQQtt"
      },
      "execution_count": 6,
      "outputs": []
    },
    {
      "cell_type": "code",
      "source": [
        "# 8. Write a code to remove the number 3 from the list [1, 2, 3, 4, 5]\n",
        "\n",
        "list = [1, 2, 3, 4,5]\n",
        "print(f\"Orignal list:{list}\")\n",
        "list.remove(3)\n",
        "print(f\"After removing (3): {list}\")"
      ],
      "metadata": {
        "id": "juNiZ0S2QQxo"
      },
      "execution_count": 6,
      "outputs": []
    },
    {
      "cell_type": "code",
      "source": [
        "# 9. Write a code to access the second element in the list ['a', 'b', 'c', 'd'].\n",
        "\n",
        "list = ['a', 'b', 'c', 'd']\n",
        "print(f\"Orignal List: {list}\")\n",
        "print(f\"access the second element in the list: {list[1]}\")"
      ],
      "metadata": {
        "id": "GQ6T6EbTQQ1d"
      },
      "execution_count": 6,
      "outputs": []
    },
    {
      "cell_type": "code",
      "source": [
        "# 10. Write a code to reverse the list [10, 20, 30, 40, 50].\n",
        "\n",
        "list = [10, 20, 30, 40, 50]\n",
        "print(f\"Orignal List: {list}\")\n",
        "print(f\"Reversed List: {list[::-1]}\")"
      ],
      "metadata": {
        "id": "9yEQQPU9Rlci"
      },
      "execution_count": null,
      "outputs": []
    },
    {
      "cell_type": "code",
      "source": [
        "# 11. Write a code to create a tuple with the elements 100, 200, 300 and print it.\n",
        "\n",
        "tuple = (100, 200, 300)\n",
        "print(tuple)"
      ],
      "metadata": {
        "id": "VmfyyjUtRlf-"
      },
      "execution_count": null,
      "outputs": []
    },
    {
      "cell_type": "code",
      "source": [
        "# 12. Write a code to access the second-to-last element of the tuple ('red', 'green', 'blue', 'yellow').\n",
        "\n",
        "tuple = ('red', 'green', 'blue', 'yellow')\n",
        "print(f\"Orignal Tuple: {tuple}\")\n",
        "print(f\"access the second-to-last element of the tuple: {tuple[-2]}\")"
      ],
      "metadata": {
        "id": "cE2sCzQWRljB"
      },
      "execution_count": null,
      "outputs": []
    },
    {
      "cell_type": "code",
      "source": [
        "# 13. Write a code to find the minimum number in the tuple (10, 20, 5, 15).\n",
        "\n",
        "tuple = (10, 20, 5, 15)\n",
        "print(f\"Orignal Tuple: {tuple}\")\n",
        "print(f\"Minimum number in the tuple: {min(tuple)}\")"
      ],
      "metadata": {
        "id": "dS4TMNUQRlmi"
      },
      "execution_count": null,
      "outputs": []
    },
    {
      "cell_type": "code",
      "source": [
        "# 14. Write a code to find the index of the element \"cat\" in the tuple ('dog', 'cat', 'rabbit').\n",
        "\n",
        "tuple = ('dog', 'cat', 'rabbit')\n",
        "print(f\"Orignal Tuple: {tuple}\")\n",
        "print(f\"Index of the element 'cat': {tuple.index('cat')}\")"
      ],
      "metadata": {
        "id": "tRRQ1XgCRlqE"
      },
      "execution_count": null,
      "outputs": []
    },
    {
      "cell_type": "code",
      "source": [
        "# 15. Write a code to create a tuple containing three different fruits and check if \"kiwi\" is in it.\n",
        "\n",
        "tuple = (\"apple\", \"banana\", \"orange\")\n",
        "print(f\"Orignal Tuple: {tuple}\")\n",
        "print(f\"Is 'kiwi' in the tuple: {'kiwi' in tuple}\")"
      ],
      "metadata": {
        "id": "ph0yySP_Rltp"
      },
      "execution_count": null,
      "outputs": []
    },
    {
      "cell_type": "code",
      "source": [
        "# Question 15 second method.\n",
        "\n",
        "fruits = (\"strawberry\", \"grape\", \"pineapple\")\n",
        "print(f\"\\nChecking fruits tuple: {fruits}\")\n",
        "\n",
        "if \"kiwi\" in fruits:\n",
        "    print(\"Yes, kiwi is in the tuple!\")\n",
        "else:\n",
        "    print(\"No, kiwi is not in the tuple.\")"
      ],
      "metadata": {
        "id": "ks5Jp93JR5tk"
      },
      "execution_count": null,
      "outputs": []
    },
    {
      "cell_type": "code",
      "source": [
        "# 16. Write a code to create a set with the elements 'a', 'b', 'c' and print it.\n",
        "\n",
        "set = {'a', 'b', 'c'}\n",
        "print(set)"
      ],
      "metadata": {
        "id": "WnBoBw9NR5w3"
      },
      "execution_count": null,
      "outputs": []
    },
    {
      "cell_type": "code",
      "source": [
        "# 17. Write a code to clear all elements from the set {1, 2, 3, 4, 5}.\n",
        "\n",
        "set = {1, 2, 3, 4, 5}\n",
        "print(f\"Orignal Set: {set}\")\n",
        "set.clear()\n",
        "print(f\"After clearing all elements: {set}\")"
      ],
      "metadata": {
        "id": "xSfdOFgDR518"
      },
      "execution_count": null,
      "outputs": []
    },
    {
      "cell_type": "code",
      "source": [
        "# 18. Write a code to remove the element 4 from the set {1, 2, 3, 4}.\n",
        "\n",
        "set = {1, 2, 3, 4}\n",
        "print(f\"Orignal Set: {set}\")\n",
        "set.remove(4)\n",
        "print(f\"After removing (4): {set}\")"
      ],
      "metadata": {
        "id": "h0txI-NYR6T-"
      },
      "execution_count": null,
      "outputs": []
    },
    {
      "cell_type": "code",
      "source": [
        "# 19. Write a code to find the union of two sets {1, 2, 3} and {3, 4, 5}.\n",
        "\n",
        "set1 = {1, 2, 3}\n",
        "set2 = {3, 4, 5}\n",
        "print(f\"Orignal Set1: {set1}\")\n",
        "print(f\"Orignal Set2: {set2}\")\n",
        "\n",
        "# Using union() method\n",
        "union_set = set1.union(set2)\n",
        "print(f\"Union of two sets: {union_set}\")"
      ],
      "metadata": {
        "id": "rkMBLlMNR6YV"
      },
      "execution_count": null,
      "outputs": []
    },
    {
      "cell_type": "code",
      "source": [
        "# 20. Write a code to find the intersection of two sets {1, 2, 3} and {2, 3, 4}.\n",
        "\n",
        "set1 = {1, 2, 3}\n",
        "set2 = {2, 3, 4}\n",
        "print(f\"Orignal Set1: {set1}\")\n",
        "print(f\"Orignal Set2: {set2}\")\n",
        "\n",
        "# Using intersection() method\n",
        "intersection_set = set1.intersection(set2)\n",
        "print(f\"Intersection of two sets: {intersection_set}\")"
      ],
      "metadata": {
        "id": "sbNuDEu5R7lY"
      },
      "execution_count": null,
      "outputs": []
    },
    {
      "cell_type": "code",
      "source": [
        "# 21. Write a code to create a dictionary with the keys \"name\", \"age\", and \"city\", and print it.\n",
        "\n",
        "dictionary = {\n",
        "    \"name\": \"Md Shayan Shamim\",\n",
        "    \"age\": 21,\n",
        "    \"city\": \"Bhagalpur\"\n",
        "}\n",
        "print(dictionary)"
      ],
      "metadata": {
        "id": "zlVnCchOR7oc"
      },
      "execution_count": null,
      "outputs": []
    },
    {
      "cell_type": "code",
      "source": [
        "# 22. Write a code to add a new key-value pair \"country\": \"USA\" to the dictionary {'name': 'John', 'age': 25}.\n",
        "\n",
        "dictionary = {'name': 'John', 'age': 25}\n",
        "print(f\"Orignal Dictionary: {dictionary}\")\n",
        "dictionary[\"country\"] = \"USA\"\n",
        "print(f\"After adding a new key-value pair: {dictionary}\")"
      ],
      "metadata": {
        "id": "13ZuJfnSR7r9"
      },
      "execution_count": null,
      "outputs": []
    },
    {
      "cell_type": "code",
      "source": [
        "# 23. Write a code to access the value associated with the key \"name\" in the dictionary {'name': 'Alice', 'age': 30}.\n",
        "\n",
        "dictionary = {'name': 'Alice', 'age': 30}\n",
        "print(f\"Orignal Dictionary: {dictionary}\")\n",
        "print(f\"Access the Value associated with the key 'name': {dictionary['name']}\")"
      ],
      "metadata": {
        "id": "bMX7YoUJR7wW"
      },
      "execution_count": null,
      "outputs": []
    },
    {
      "cell_type": "code",
      "source": [
        "# 24. Write a code to remove the key \"age\" from the dictionary {'name': 'Bob', 'age': 22, 'city': 'New York'}.\n",
        "\n",
        "dictionary = {'name': 'Bob', 'age': 22, 'city': 'New York'}\n",
        "print(f\"Orignal Dictionary: {dictionary}\")\n",
        "del dictionary[\"age\"]\n",
        "print(f\"After removing the key 'age': {dictionary}\")"
      ],
      "metadata": {
        "id": "U-N6TC_RSU2K"
      },
      "execution_count": null,
      "outputs": []
    },
    {
      "cell_type": "code",
      "source": [
        "# 25. Write a code to check if the key \"city\" exists in the dictionary {'name': 'Alice', 'city': 'Paris'}.\n",
        "\n",
        "dictionary = {'name': 'Alice', 'city': 'Paris'}\n",
        "print(f\"Orignal Dictionary: {dictionary}\")\n",
        "if \"city\" in dictionary:\n",
        "    print(\"The key 'city' exists in the dictionary.\")"
      ],
      "metadata": {
        "id": "Pw5jfQSaSU5c"
      },
      "execution_count": null,
      "outputs": []
    },
    {
      "cell_type": "code",
      "source": [
        "# 26. Write a code to create a list, a tuple, and a dictionary, and print them all.\n",
        "\n",
        "# Create a list (mutable, ordered collection)\n",
        "list = [1, 2, 3, \"apple\", \"banana\"]\n",
        "print(\"List:\", list)\n",
        "\n",
        "# Create a tuple (immutable, ordered collection)\n",
        "tuple = (\"red\", \"green\", \"blue\", 10, 20)\n",
        "print(\"Tuple:\", tuple)\n",
        "\n",
        "# Create a dictionary (mutable, key-value pairs)\n",
        "dict = {\"name\": \"Alice\", \"age\": 25, \"city\": \"Paris\"}\n",
        "print(\"Dictionary:\", dict)\n"
      ],
      "metadata": {
        "id": "oQNg3V9pSU9A"
      },
      "execution_count": null,
      "outputs": []
    },
    {
      "cell_type": "code",
      "source": [
        "# 27. Write a code to create a list of 5 random numbers between 1 and 100, sort it in ascending order, and print the result(replaced).\n",
        "\n",
        "import random\n",
        "\n",
        "# Create a list of 5 random numbers between 1 and 100\n",
        "random_numbers = [random.randint(1, 100) for i in range(5)]\n",
        "print(\"Original List:\", random_numbers)"
      ],
      "metadata": {
        "id": "ha8_2lxESVAg"
      },
      "execution_count": null,
      "outputs": []
    },
    {
      "cell_type": "code",
      "source": [
        "# 28. Write a code to create a list with strings and print the element at the third index.\n",
        "\n",
        "list = [\"apple\", \"banana\", \"cherry\", \"date\", \"elderberry\"]\n",
        "print(f\"Orignal List: {list}\")\n",
        "print(f\"Element at the third index: {list[3]}\")"
      ],
      "metadata": {
        "id": "6Lx8A-PzSVEK"
      },
      "execution_count": null,
      "outputs": []
    },
    {
      "cell_type": "code",
      "source": [
        "# 29. Write a code to combine two dictionaries into one and print the result.\n",
        "\n",
        "dict1 = {'a': 1, 'b': 2}\n",
        "dict2 = {'c': 3, 'd': 4}\n",
        "\n",
        "combined_dict = dict1 | dict2\n",
        "print(\"Combined Dictionary:\", combined_dict)"
      ],
      "metadata": {
        "id": "1R04rh18SVHZ"
      },
      "execution_count": null,
      "outputs": []
    },
    {
      "cell_type": "code",
      "source": [
        "# 30. Write a code to convert a list of strings into a set.\n",
        "\n",
        "string_list = [\"apple\", \"banana\", \"cherry\", \"date\", \"elderberry\"]\n",
        "print(f\"Orignal String List:{string_list}\")\n",
        "string_set = set(string_list)\n",
        "print(f\"String Set:{string_set}\")"
      ],
      "metadata": {
        "colab": {
          "base_uri": "https://localhost:8080/"
        },
        "id": "2E1MXVmZSVKl",
        "outputId": "e6b2b58d-0821-487f-d210-1e22ee8aee13"
      },
      "execution_count": 8,
      "outputs": [
        {
          "output_type": "stream",
          "name": "stdout",
          "text": [
            "Orignal String List:['apple', 'banana', 'cherry', 'date', 'elderberry']\n",
            "String Set:{'elderberry', 'banana', 'date', 'cherry', 'apple'}\n"
          ]
        }
      ]
    },
    {
      "cell_type": "code",
      "source": [],
      "metadata": {
        "id": "rSFnj5UuSi6H"
      },
      "execution_count": null,
      "outputs": []
    }
  ]
}